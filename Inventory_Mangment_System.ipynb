{
  "nbformat": 4,
  "nbformat_minor": 0,
  "metadata": {
    "colab": {
      "name": "Inventory Mangment System.ipynb",
      "provenance": [],
      "collapsed_sections": []
    },
    "kernelspec": {
      "name": "python3",
      "display_name": "Python 3"
    },
    "language_info": {
      "name": "python"
    }
  },
  "cells": [
    {
      "cell_type": "markdown",
      "metadata": {
        "id": "CWM2HL8Qe6a4"
      },
      "source": [
        "#Inventory Managment System\n",
        "## Tanmay Rao\n"
      ]
    },
    {
      "cell_type": "code",
      "metadata": {
        "id": "TH9C2BqWe5K8"
      },
      "source": [
        "record = {101:{'Name': 'Coke','Cateogry':'drink','Price':45,'Qunatity':100,'Type':'Packed'},\n",
        "          102:{'Name': 'Frooti','Cateogry':'drink','Price':45,'Qunatity':100,'Type':'Packed'},\n",
        "          103:{'Name': 'Maza','Cateogry':'drink','Price':35,'Qunatity':100,'Type':'Packed'},\n",
        "          104:{'Name': 'Lassi','Cateogry':'drink','Price':55,'Qunatity':100,'Type':'Packed'},\n",
        "          105:{'Name': 'Gatorade','Cateogry':'drink','Price':50,'Qunatity':100,'Type':'Packed'},\n",
        "          106:{'Name': 'Soya Milk','Cateogry':'drink','Price':25,'Qunatity':100,'Type':'Packed'},\n",
        "          107:{'Name': 'Jeera Soda','Cateogry':'drink','Price':35,'Qunatity':100,'Type':'Packed'},\n",
        "          108:{'Name': 'Butter Milk','Cateogry':'drink','Price':20,'Qunatity':100,'Type':'Fresh'},\n",
        "          109:{'Name': 'Regular Milk','Cateogry':'drink','Price':45,'Qunatity':100,'Type':'Fresh'},\n",
        "          110:{'Name': 'Full Cream Milk','Cateogry':'drink','Price':55,'Qunatity':100,'Type':'Fresh'},\n",
        "          111:{'Name': 'Apple','Cateogry':'Fruit','Price':100,'Qunatity':100,'Type':'Fresh'},\n",
        "          112:{'Name': 'Mango','Cateogry':'Fruit','Price':120,'Qunatity':100,'Type':'Fresh'},\n",
        "          113:{'Name': 'PineApple','Cateogry':'Fruit','Price':50,'Qunatity':100,'Type':'Fresh'},\n",
        "          114:{'Name': 'Bannana','Cateogry':'Fruit','Price':40,'Qunatity':100,'Type':'Fresh'},\n",
        "          115:{'Name': 'Kiwi','Cateogry':'Fruit','Price':80,'Qunatity':100,'Type':'Fresh'},\n",
        "          116:{'Name': 'Coconut','Cateogry':'Fruit','Price':30,'Qunatity':100,'Type':'Fresh'},\n",
        "          117:{'Name': 'Pomegranate','Cateogry':'Fruit','Price':180,'Qunatity':100,'Type':'Fresh'},\n",
        "          118:{'Name': 'Stawberry','Cateogry':'Fruit','Price':200,'Qunatity':100,'Type':'Fresh'},\n",
        "          119:{'Name': 'Blueberry','Cateogry':'Fruit','Price':300,'Qunatity':100,'Type':'Fresh'},\n",
        "          120:{'Name': 'Grapes','Cateogry':'Fruit','Price':90,'Qunatity':100,'Type':'Fresh'},\n",
        "          121:{'Name': 'Chips','Cateogry':'Wafers','Price':20,'Qunatity':100,'Type':'Packed'},\n",
        "          122:{'Name': 'Sev Mixture','Cateogry':'Namkeen','Price':50,'Qunatity':100,'Type':'Packed'},\n",
        "          123:{'Name': 'Orange Burfee','Cateogry':'Sweet','Price':250,'Qunatity':100,'Type':'Packed'},\n",
        "          124:{'Name': 'Kaju Burfee','Cateogry':'Sweet','Price':700,'Qunatity':100,'Type':'Packed'},\n",
        "          125:{'Name': 'Rasgula','Cateogry':'Sweet','Price':120,'Qunatity':100,'Type':'Packed'},\n",
        "          126:{'Name': 'Besan Ladoo','Cateogry':'Sweet','Price':120,'Qunatity':100,'Type':'Packed'},\n",
        "          127:{'Name': 'Milk Cake','Cateogry':'Sweet','Price':220,'Qunatity':100,'Type':'Packed'},\n",
        "          128:{'Name': 'Yougurt','Cateogry':'Diary','Price':20,'Qunatity':100,'Type':'Packed'},\n",
        "          129:{'Name': 'Chesse','Cateogry':'Dairy','Price':200,'Qunatity':100,'Type':'Packed'},\n",
        "          130:{'Name': 'Fresh Cream','Cateogry':'Dairy','Price':120,'Qunatity':100,'Type':'Packed'}}"
      ],
      "execution_count": 17,
      "outputs": []
    },
    {
      "cell_type": "markdown",
      "metadata": {
        "id": "UiiPdVqkpj2X"
      },
      "source": [
        "####Importing Libraries"
      ]
    },
    {
      "cell_type": "code",
      "metadata": {
        "id": "DSs588njf6lJ"
      },
      "source": [
        "import json\n",
        "import time\n",
        "import random\n"
      ],
      "execution_count": 18,
      "outputs": []
    },
    {
      "cell_type": "markdown",
      "metadata": {
        "id": "sXI1f6c6ppVx"
      },
      "source": [
        "#### Dumping record in json file"
      ]
    },
    {
      "cell_type": "code",
      "metadata": {
        "id": "RmULfCxNgf84"
      },
      "source": [
        "js = json.dumps(record)"
      ],
      "execution_count": 19,
      "outputs": []
    },
    {
      "cell_type": "markdown",
      "metadata": {
        "id": "zFMoTeQrp2dX"
      },
      "source": [
        "#### Writing the records in records.json"
      ]
    },
    {
      "cell_type": "code",
      "metadata": {
        "id": "BPNNe75OgEnH"
      },
      "source": [
        "fd = open(\"record.json\",\"w\")\n",
        "fd.write(js)\n",
        "fd.close()"
      ],
      "execution_count": 20,
      "outputs": []
    },
    {
      "cell_type": "markdown",
      "metadata": {
        "id": "h6MAIu7op4RB"
      },
      "source": [
        "#### Function to show list of products:"
      ]
    },
    {
      "cell_type": "code",
      "metadata": {
        "id": "8Eer2pc0gRi8"
      },
      "source": [
        "def productsFun():\n",
        "  print(\"********List of Products************\")\n",
        "  for i in record.keys():\n",
        "    print(\"\\n\"+ \"Name:\\t\" +str(record[i]['Name']) +\"\\n\"+ \"Price:\\t\" +str(record[i]['Price'])+\"\\n\"+\"Id:\\t\" +str(i)+ \"\\n\"+\"Quantity:\" +str(record[i]['Qunatity'])+\"\\n\"+\"Type: \\t\"+str(record[i]['Type'])) "
      ],
      "execution_count": 21,
      "outputs": []
    },
    {
      "cell_type": "markdown",
      "metadata": {
        "id": "14DNpJBVp_cH"
      },
      "source": [
        "#### Function to create sales.json after purchase"
      ]
    },
    {
      "cell_type": "code",
      "metadata": {
        "id": "6C1jNnfMmCt2"
      },
      "source": [
        "def salesFun(orderId,quanOrder):\n",
        "\n",
        "  sales = { orderId : {'Ordered Item': orderId,'Qunatity': quanOrder}}\n",
        "  fs = json.dumps(sales)\n",
        "  fd = open('sales.json',\"w\")\n",
        "  fd.write(fs)\n",
        "  fd.close()"
      ],
      "execution_count": 22,
      "outputs": []
    },
    {
      "cell_type": "markdown",
      "metadata": {
        "id": "Xp44tjrOqNzW"
      },
      "source": [
        "Function to create bill of ordered item"
      ]
    },
    {
      "cell_type": "code",
      "metadata": {
        "id": "h14eoA7iiFOw"
      },
      "source": [
        "def orderFun(orderId,quanOrder):\n",
        "  for i in record.keys():\n",
        "    if (i == int(orderId)) :\n",
        "      print(\"****************************************************\")\n",
        "      print(\"**************Indian Super Bazar********************\")\n",
        "      print(\" Order Id Number  :\", random.randrange(1001,1500,1))\n",
        "      print(\" Ordered Item Name:\", record[i]['Name'])\n",
        "      print(\" Order Price      :\", record[i]['Price'])\n",
        "      print(\" Ordered Quantity :\", quanOrder)\n",
        "      print(\" Order Category   :\", record[i]['Cateogry'])\n",
        "      print(\" Order Type       :\", record[i]['Type'])\n",
        "      print(\" Total Bill       :\", quanOrder * record[i]['Price'])\n",
        "      print(\" Order Time       :\", time.ctime())\n",
        "      print(\"**********Thank you****Visit us Again!!*************\")\n",
        "      print(\"****************************************************\")\n",
        "      salesFun(orderId,quanOrder)\n",
        "      \n",
        "    "
      ],
      "execution_count": 23,
      "outputs": []
    },
    {
      "cell_type": "markdown",
      "metadata": {
        "id": "e-DMIgY3qS6n"
      },
      "source": [
        "Function to add Item to the Inventory"
      ]
    },
    {
      "cell_type": "code",
      "metadata": {
        "id": "_m1IN9CVm-vp"
      },
      "source": [
        "def addItem(prodId,prodName,prodCat,prodPrice,prodQuan,prodType):\n",
        "  record[prodId] = {'Name':prodName,'Cateogry':prodCat,'Price':prodPrice,'Qunatity':prodQuan,'Type':prodType}\n",
        "  js = json.dumps(record)\n",
        "  fd = open(\"record.json\",\"w\")\n",
        "  fd.write(js)\n",
        "  fd.close()\n",
        "  print(\"Item added to the Inventory \\n\")"
      ],
      "execution_count": 24,
      "outputs": []
    },
    {
      "cell_type": "markdown",
      "metadata": {
        "id": "ol6rf5-lqhYX"
      },
      "source": [
        "#### Function to update the current inventory "
      ]
    },
    {
      "cell_type": "code",
      "metadata": {
        "id": "Vs9ri4sRnX1s"
      },
      "source": [
        "def updateInven(orderId,quanOrder):\n",
        "  for i in record.keys():\n",
        "    if (i == orderId and record[i]['Qunatity'] >= quanOrder):\n",
        "      record[i]['Qunatity'] = record[i]['Qunatity'] - quanOrder\n",
        "      orderFun(orderId,quanOrder)\n",
        "      txt = json.dumps(record)\n",
        "      fd = open(\"record.json\",\"w\")\n",
        "      fd.write(txt)\n",
        "      fd.close()\n",
        "      \n",
        "    elif ( i == orderId and record[i]['Qunatity'] <= quanOrder):\n",
        "      print(\"Item cannot be purchased\")\n",
        "      "
      ],
      "execution_count": 25,
      "outputs": []
    },
    {
      "cell_type": "markdown",
      "metadata": {
        "id": "XvpVb7Iqqnyv"
      },
      "source": [
        "### Menu Driven Code"
      ]
    },
    {
      "cell_type": "code",
      "metadata": {
        "id": "bZLp9Qk_parq"
      },
      "source": [
        "while(True):\n",
        "  print(\"*************************************************************\")\n",
        "  print(\"Welcome to Inventory Managment System \")\n",
        "  print(\"*************************************************************\")\n",
        "  print(\"1. To view the list of products \\n\")\n",
        "  print(\"2. To buy an item from the products \\n\")\n",
        "  print(\"3. Add new items to the inventory \\n\")\n",
        "  print(\"4. View Sales for Today \\n\")\n",
        "  print(\"5. Exit \\n\")\n",
        "  c = int(input(\"Enter the choice =\"))\n",
        "  \n",
        "  if  c == 1:\n",
        "    productsFun()\n",
        "  elif c == 2:\n",
        "    prodId = int(input(\"Enter the product Id = \"))\n",
        "    prodQuan = int(input(\"Enter the product Quantity = \"))\n",
        "    updateInven(prodId,prodQuan)\n",
        "  elif c == 3:\n",
        "    prodId = int(input(\"Enter the product ID:\"))\n",
        "    prodName = str(input(\"Enter the product Name:\"))\n",
        "    prodCat = str(input(\"Enter product Cateogry\"))\n",
        "    prodQuan = int(input(\"Enter product Quantity:\"))\n",
        "    prodPrice = int(input(\"Enter product Price:\"))\n",
        "    prodType = str(input(\"Enter product Type:\"))\n",
        "    addItem(prodId,prodName,prodCat,prodPrice,prodQuan,prodType)\n",
        "  elif c== 4 :\n",
        "    fd = open(\"sales.json\",\"r\")\n",
        "    r = fd.read()\n",
        "    sales = json.loads(r)\n",
        "    fd.close()\n",
        "    for i in sales:\n",
        "      print(\"Ordered Item:\",sales[i]['Ordered Item'],\"\\n\",\"Quantity:\",sales[i]['Qunatity'])\n",
        "  elif c==5:\n",
        "    print(\"Thankyou for shopping with is !!\")\n",
        "    break\n",
        "  else:\n",
        "    print(\"Wrong Choice\")  "
      ],
      "execution_count": null,
      "outputs": []
    },
    {
      "cell_type": "code",
      "metadata": {
        "id": "Y6FaGcXGuAni"
      },
      "source": [
        ""
      ],
      "execution_count": null,
      "outputs": []
    }
  ]
}